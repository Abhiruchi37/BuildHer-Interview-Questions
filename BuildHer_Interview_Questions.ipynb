{
  "nbformat": 4,
  "nbformat_minor": 0,
  "metadata": {
    "colab": {
      "provenance": [],
      "authorship_tag": "ABX9TyPEqpx3a6G0InS1EqTy+PdF",
      "include_colab_link": true
    },
    "kernelspec": {
      "name": "python3",
      "display_name": "Python 3"
    },
    "language_info": {
      "name": "python"
    }
  },
  "cells": [
    {
      "cell_type": "markdown",
      "metadata": {
        "id": "view-in-github",
        "colab_type": "text"
      },
      "source": [
        "<a href=\"https://colab.research.google.com/github/Abhiruchi37/BuildHer-Interview-Questions/blob/main/BuildHer_Interview_Questions.ipynb\" target=\"_parent\"><img src=\"https://colab.research.google.com/assets/colab-badge.svg\" alt=\"Open In Colab\"/></a>"
      ]
    },
    {
      "cell_type": "markdown",
      "source": [
        "# Easy 1:\n",
        "Given a string s consisting of words and spaces, return the length of the last word in the string.\n",
        "A word is a maximal\n",
        "substring consisting of non-space characters only."
      ],
      "metadata": {
        "id": "VGqGTxk9a-hd"
      }
    },
    {
      "cell_type": "code",
      "execution_count": null,
      "metadata": {
        "colab": {
          "base_uri": "https://localhost:8080/"
        },
        "id": "X3iVYEB7ZsHD",
        "outputId": "4293b9e6-76f5-4655-bf92-7dbcd857be33"
      },
      "outputs": [
        {
          "output_type": "stream",
          "name": "stdout",
          "text": [
            "The length of last word in string is: 5\n",
            "The length of last word in string is: 4\n",
            "Invalid Input String\n",
            "Invalid String\n"
          ]
        }
      ],
      "source": [
        "def lastwordlen(s):\n",
        "  if not 1<=len(s)<=104:\n",
        "    return \"Invalid String\"\n",
        "\n",
        "  if not all(x.isalpha() or x.isspace() for x in s):\n",
        "    return \"Invalid Input String\"\n",
        "\n",
        "  s1=s.split()\n",
        "  length=len(s1[-1])\n",
        "  return f\"The length of last word in string is: {length}\"\n",
        "\n",
        "#testcases\n",
        "ex1 = \"Hello World\"\n",
        "ex2 = \"  fly me   to  the moon \"\n",
        "ex3 = \"12345\"\n",
        "ex4 = \"\"\n",
        "\n",
        "print(lastwordlen(ex1))\n",
        "print(lastwordlen(ex2))\n",
        "print(lastwordlen(ex3))\n",
        "print(lastwordlen(ex4))\n"
      ]
    },
    {
      "cell_type": "markdown",
      "source": [
        "# Logic:\n",
        "\n",
        "The split() method splits the string into a list of words in the string. Thus this method is used to first convert the string into a list. It is easier to find out the last word in a list as it wont include spaces as the string. Hence the length of the last word can be found using len(string[-1]) where -1 is the index of last word.\n",
        "\n",
        "\\\n",
        "# Algorithm:\n",
        "\n",
        "Step 1. Start\\\n",
        "Step 2. Define a function that takes the input string as paramater [lastwordlen(s)]\\\n",
        "Step 3. Constraints specified: len(s) is between 1 and 104, the string contains letters and spaces\\\n",
        "Step 4. Split the string i.e convert it to list [string.split()]\\\n",
        "Step 5. Return length of the last word by indexing [len(string[-1])]\\\n",
        "Step 6. End\n",
        "\n",
        "\n"
      ],
      "metadata": {
        "id": "UAd6cIxGkh-S"
      }
    },
    {
      "cell_type": "markdown",
      "source": [
        "-----"
      ],
      "metadata": {
        "id": "jwhXhHSnS3rd"
      }
    },
    {
      "cell_type": "markdown",
      "source": [
        "# Easy 2:\n",
        "Given an integer array nums where the elements are sorted in ascending order, convert it to a\n",
        "height-balanced binary search tree."
      ],
      "metadata": {
        "id": "6c7o1c3_nfso"
      }
    },
    {
      "cell_type": "code",
      "source": [
        "class Node:\n",
        "    def __init__(self, num=0, left=None, right=None):\n",
        "        self.num=num\n",
        "        self.left=left\n",
        "        self.right=right\n",
        "\n",
        "def HBST(nums):\n",
        "    if not 1 <= len(nums) <= 104:\n",
        "        return []\n",
        "\n",
        "    m=len(nums) // 2\n",
        "    root=Node(nums[m])\n",
        "    root.left=HBST(nums[:m])\n",
        "    root.right=HBST(nums[m+1:])\n",
        "\n",
        "    return root\n",
        "\n",
        "def array(root):\n",
        "    answer=[]\n",
        "    if not root:\n",
        "        return answer\n",
        "\n",
        "    queue=[root]\n",
        "    while queue:\n",
        "        curr=queue.pop(0)\n",
        "        if curr:\n",
        "            answer.append(curr.num)\n",
        "            queue.append(curr.left)\n",
        "            queue.append(curr.right)\n",
        "        else:\n",
        "            answer.append(None)\n",
        "\n",
        "    while answer and answer[-1] is None:\n",
        "        answer.pop()\n",
        "\n",
        "    return answer\n",
        "\n",
        "# Testcases:\n",
        "nums=[-10,-3,0,5,9]\n",
        "root=HBST(nums)\n",
        "\n",
        "nums1=[]\n",
        "root1=HBST(nums1)\n",
        "\n",
        "result_array=array(root)\n",
        "result_array1=array(root1)\n",
        "\n",
        "print(result_array)\n",
        "print(result_array1)"
      ],
      "metadata": {
        "colab": {
          "base_uri": "https://localhost:8080/"
        },
        "id": "USmCWvWwcabM",
        "outputId": "5e324817-8fb7-4f3c-f2b5-bc56a91571eb"
      },
      "execution_count": 10,
      "outputs": [
        {
          "output_type": "stream",
          "name": "stdout",
          "text": [
            "[0, -3, 9, -10, None, 5]\n",
            "[]\n"
          ]
        }
      ]
    },
    {
      "cell_type": "markdown",
      "source": [
        "# Logic:\n",
        "*   The Node class creates the binary tree with num being the elements at each node, left being the left sub tree and right being the right sub tree.\n",
        "*   The HBST() method is used to create a height balanced binary search tree from the given array input 'nums'. The middle element of the array if the root of the tree. The left sub tree is created by considering elements before middle element i.e nums[:middle] here slicing is used to consider all elements from start to an element before middle element. Similarly the right sub tree is created using elements after middle element i.e nums[m+1:].\n",
        "*   The array() method converts the created tree into an array to display output in the form of an array using BFS. A queue is initialized with the root. A loop is created where the nodes are popped and the elements at the node is added into the queue. Finally the 'None' values are popped i.e the unexisitng elements of nodes.\n",
        "\n",
        "# Algorithm:\n",
        "Step 1. Start\\\n",
        "Step 2. Create a class node which will represent nodes in the tree. Initialize node with parameters as the element,left and right.\\\n",
        "Step 3. Define an HBST function that takes the array nums as parameter.\\\n",
        "     3.1. root = Node(nums[m]) - m=middle element which is the root\\\n",
        "     3.2. root.left = HBST(nums[:m])- left sub tree\\\n",
        "     3.3. root.right = HBST(nums[m+1:])- right sub tree\\\n",
        "Step 4. Define the array function that converts the tree into an array ie the output.\\\n",
        "     4.1. queue = [root] - initiaze queue with root\\\n",
        "     4.2. loop until all elements are visitied and append them into queue\\\n",
        "     4.3. pop the None of unexisting elements\\\n",
        "Step 5. Display Queue\\\n",
        "Step 6. End\n",
        "\n",
        "\n",
        "\n",
        "\n",
        "\n",
        "\n",
        "\n"
      ],
      "metadata": {
        "id": "csAHt8q4GbId"
      }
    },
    {
      "cell_type": "markdown",
      "source": [
        "---"
      ],
      "metadata": {
        "id": "pQ_MGGiLVnNB"
      }
    },
    {
      "cell_type": "markdown",
      "source": [
        "# Medium 2:\n",
        "Given an integer array of size n, find all elements that appear more than ⌊ n/3 ⌋ times."
      ],
      "metadata": {
        "id": "SuF6ZUmrV3GS"
      }
    },
    {
      "cell_type": "code",
      "source": [
        "from collections import Counter\n",
        "\n",
        "def element(nums):\n",
        "  n=len(nums)\n",
        "  if not 1 <= n <= 5 * 104:\n",
        "    return []\n",
        "  for a in nums:\n",
        "    if not -109 <= a <= 109:\n",
        "      return \"Invalid\"\n",
        "\n",
        "  x=n//3\n",
        "  count=Counter(nums)\n",
        "  answer=[]\n",
        "  for i in count:\n",
        "    if count[i]>x:\n",
        "      answer.append(i)\n",
        "  print(answer)\n",
        "\n",
        "#Testcases\n",
        "ex1=[3,2,3]\n",
        "ex2=[7, 7, 7, 3, 4, 4, 4, 5]\n",
        "ex3=[110,112]\n",
        "\n",
        "element(ex1)\n",
        "element(ex2)\n",
        "element(ex3)\n"
      ],
      "metadata": {
        "id": "mINElyTnst3g",
        "colab": {
          "base_uri": "https://localhost:8080/",
          "height": 70
        },
        "outputId": "617cab3f-4f86-4466-e8cd-f0a0b5eb3c53"
      },
      "execution_count": 11,
      "outputs": [
        {
          "output_type": "stream",
          "name": "stdout",
          "text": [
            "[3]\n",
            "[7, 4]\n"
          ]
        },
        {
          "output_type": "execute_result",
          "data": {
            "text/plain": [
              "'Invalid'"
            ],
            "application/vnd.google.colaboratory.intrinsic+json": {
              "type": "string"
            }
          },
          "metadata": {},
          "execution_count": 11
        }
      ]
    },
    {
      "cell_type": "markdown",
      "source": [
        "# Logic:\n",
        "To solve this problem I used Counter() class from collections module to count the occurence of every value in the array 'nums'. \\\n",
        "A loop is created through the variable that stores the count of each value, 'count', each value in the count is compared with the given conditon i.e len(nums)//3. If the value satifies the condition it is added to an array named 'answer'.\n",
        "\n",
        "# Algorithm:\n",
        "Step 1. Start\\\n",
        "Step 2. from collections import Counter\\\n",
        "Step 3. Define a function element with input aray as parameter and mention the constraints:\\\n",
        "if not 1 <= n <= 5 * 104:\\\n",
        "    return []\\\n",
        "for a in nums:\\\n",
        "    if not -109 <= a <= 109:\\\n",
        "       return \"Invalid\"\\\n",
        "Step 4. Mention the condition and assign a variable to store Counter result: x=n//3  \n",
        "count=Counter(nums)\\\n",
        "Step 5. Loop through count until values are found that satisfy the condition and store the result in an array:\\\n",
        "if count[i]>x:\\\n",
        "      answer.append(i)\\\n",
        "Step 6. End\n",
        "\n"
      ],
      "metadata": {
        "id": "HX0nohqUVCXv"
      }
    },
    {
      "cell_type": "markdown",
      "source": [
        "---\n"
      ],
      "metadata": {
        "id": "F5JaNqNUVCr0"
      }
    },
    {
      "cell_type": "markdown",
      "source": [
        "# Hard 1:\n",
        "You are given a string s. You can convert s to a\n",
        "palindrome by adding characters in front of it.\n",
        "Return the shortest palindrome you can find by performing this transformation."
      ],
      "metadata": {
        "id": "NYKuEZ_MVEOu"
      }
    },
    {
      "cell_type": "code",
      "source": [
        "def palindrome(s):\n",
        "  n=len(s)\n",
        "  s1=s.lower()\n",
        "  if not 0 <= n <= 5 * 104:\n",
        "    return \"Invalid\"\n",
        "  rev = s1[::-1]\n",
        "  for i in range(n+1):\n",
        "      if s1.startswith(rev[i:]):\n",
        "        return rev[:i] + s1\n",
        "\n",
        "#Testcases:\n",
        "ex1='abcd'\n",
        "ex2='aacecaaa'\n",
        "ex3='ABCD'\n",
        "print(palindrome(ex1))\n",
        "print(palindrome(ex2))\n",
        "print(palindrome(ex3))"
      ],
      "metadata": {
        "colab": {
          "base_uri": "https://localhost:8080/"
        },
        "id": "WIYeYFxL---M",
        "outputId": "7c9a5f65-1665-478f-8ef8-aa64975122b2"
      },
      "execution_count": 25,
      "outputs": [
        {
          "output_type": "stream",
          "name": "stdout",
          "text": [
            "dcbabcd\n",
            "aaacecaaa\n",
            "dcbabcd\n"
          ]
        }
      ]
    },
    {
      "cell_type": "markdown",
      "source": [
        "# Logic:\n",
        "The given input string 's' is reversed and a loop is created to check whether the input string 's' starts with the reversed string. If it does then the reversed string is concatenated with the original string to form the shortest palindrome.\n",
        "\n",
        "# Algorithm:\n",
        "Step 1. Start\\\n",
        "Step 2. Define a function with input string 's' as parameter\\\n",
        "Step 3. s.lower\\\n",
        "Step 4. reverse string s[::-1]\\\n",
        "Step 5. for i in range(n+1):\\\n",
        "      if s1.startswith(rev[i:]):\\\n",
        "        return rev[:i] + s1\\\n",
        "Step 6. End"
      ],
      "metadata": {
        "id": "3yLHv8k4Eufz"
      }
    },
    {
      "cell_type": "markdown",
      "source": [
        "---"
      ],
      "metadata": {
        "id": "vzdlwQccGsdc"
      }
    },
    {
      "cell_type": "markdown",
      "source": [
        "# Hard 3:\n",
        "Given an integer n, count the total number of digit 1 appearing in all non-negative integers less than or equal to n."
      ],
      "metadata": {
        "id": "6d4rI2OpG61J"
      }
    },
    {
      "cell_type": "code",
      "source": [
        "def count(n):\n",
        "    if not 0 <= n <= 109:\n",
        "      return \"Invalid Input\"\n",
        "    c=0\n",
        "    values=list(range(n+1))\n",
        "    strvalues=''.join(map(str, values))\n",
        "\n",
        "    for i in strvalues:\n",
        "        if i=='1':\n",
        "            c+=1\n",
        "    return c\n",
        "\n",
        "# Testcases:\n",
        "n=13\n",
        "n1=0\n",
        "n2=-3\n",
        "print(count(n))\n",
        "print(count(n1))\n",
        "print(count(n2))"
      ],
      "metadata": {
        "colab": {
          "base_uri": "https://localhost:8080/"
        },
        "id": "8S8ry3myAMT7",
        "outputId": "7d4ee613-d633-41b4-c9a6-4fd79b44ddb3"
      },
      "execution_count": 34,
      "outputs": [
        {
          "output_type": "stream",
          "name": "stdout",
          "text": [
            "6\n",
            "0\n",
            "Invalid Input\n"
          ]
        }
      ]
    },
    {
      "cell_type": "markdown",
      "source": [
        "# Logic:\n",
        "A list is created within the range of the guven input number 'n'. This list is then converted to a string to count the occurences of '1' easily. Loop through the string to find if the '1' occurs and if it does increments the counter.\n",
        "\n",
        "# Algorithm:\n",
        "Step 1. Start\\\n",
        "Step 2. Initialise counter c to 0\\\n",
        "Step 3. Create a list within range of 'n'\\\n",
        "Step 4. Convert list to string\\\n",
        "Step 5. Loop through string until '1' is found and increment 'c':\\\n",
        "if i=='1':\\\n",
        "   c+=1\\\n",
        "Step 6. End"
      ],
      "metadata": {
        "id": "cLM2OVvuJ8QY"
      }
    },
    {
      "cell_type": "markdown",
      "source": [
        "---"
      ],
      "metadata": {
        "id": "fCaARbPELhTH"
      }
    }
  ]
}